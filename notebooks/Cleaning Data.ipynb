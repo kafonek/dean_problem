{
 "cells": [
  {
   "cell_type": "markdown",
   "id": "017946ef-3f9e-4300-85fc-09ad80f55c48",
   "metadata": {},
   "source": [
    "### Read in raw data"
   ]
  },
  {
   "cell_type": "code",
   "execution_count": 1,
   "id": "38526d65",
   "metadata": {},
   "outputs": [
    {
     "data": {
      "text/html": [
       "<div>\n",
       "<style scoped>\n",
       "    .dataframe tbody tr th:only-of-type {\n",
       "        vertical-align: middle;\n",
       "    }\n",
       "\n",
       "    .dataframe tbody tr th {\n",
       "        vertical-align: top;\n",
       "    }\n",
       "\n",
       "    .dataframe thead th {\n",
       "        text-align: right;\n",
       "    }\n",
       "</style>\n",
       "<table border=\"1\" class=\"dataframe\">\n",
       "  <thead>\n",
       "    <tr style=\"text-align: right;\">\n",
       "      <th></th>\n",
       "      <th>animal_ID</th>\n",
       "      <th>weight_lbs</th>\n",
       "      <th>zoo_ID</th>\n",
       "    </tr>\n",
       "  </thead>\n",
       "  <tbody>\n",
       "    <tr>\n",
       "      <th>0</th>\n",
       "      <td>9992</td>\n",
       "      <td>1040</td>\n",
       "      <td>12</td>\n",
       "    </tr>\n",
       "    <tr>\n",
       "      <th>1</th>\n",
       "      <td>99929</td>\n",
       "      <td>1090</td>\n",
       "      <td>12</td>\n",
       "    </tr>\n",
       "    <tr>\n",
       "      <th>2</th>\n",
       "      <td>12993</td>\n",
       "      <td>2190</td>\n",
       "      <td>11</td>\n",
       "    </tr>\n",
       "    <tr>\n",
       "      <th>3</th>\n",
       "      <td>9821</td>\n",
       "      <td>750</td>\n",
       "      <td>11</td>\n",
       "    </tr>\n",
       "    <tr>\n",
       "      <th>4</th>\n",
       "      <td>96673</td>\n",
       "      <td>580</td>\n",
       "      <td>11</td>\n",
       "    </tr>\n",
       "  </tbody>\n",
       "</table>\n",
       "</div>"
      ],
      "text/plain": [
       "   animal_ID  weight_lbs  zoo_ID\n",
       "0       9992        1040      12\n",
       "1      99929        1090      12\n",
       "2      12993        2190      11\n",
       "3       9821         750      11\n",
       "4      96673         580      11"
      ]
     },
     "execution_count": 1,
     "metadata": {},
     "output_type": "execute_result"
    }
   ],
   "source": [
    "import pandas\n",
    "\n",
    "dfa = pandas.read_csv('../data/animals.csv')\n",
    "dfa.head()"
   ]
  },
  {
   "cell_type": "code",
   "execution_count": 2,
   "id": "b7b64963-86bd-4238-874a-07a1988ad7e7",
   "metadata": {},
   "outputs": [
    {
     "data": {
      "text/html": [
       "<div>\n",
       "<style scoped>\n",
       "    .dataframe tbody tr th:only-of-type {\n",
       "        vertical-align: middle;\n",
       "    }\n",
       "\n",
       "    .dataframe tbody tr th {\n",
       "        vertical-align: top;\n",
       "    }\n",
       "\n",
       "    .dataframe thead th {\n",
       "        text-align: right;\n",
       "    }\n",
       "</style>\n",
       "<table border=\"1\" class=\"dataframe\">\n",
       "  <thead>\n",
       "    <tr style=\"text-align: right;\">\n",
       "      <th></th>\n",
       "      <th>zoo_ID</th>\n",
       "      <th>zoo_name</th>\n",
       "    </tr>\n",
       "  </thead>\n",
       "  <tbody>\n",
       "    <tr>\n",
       "      <th>0</th>\n",
       "      <td>12</td>\n",
       "      <td>Detroit</td>\n",
       "    </tr>\n",
       "    <tr>\n",
       "      <th>1</th>\n",
       "      <td>11</td>\n",
       "      <td>LA</td>\n",
       "    </tr>\n",
       "    <tr>\n",
       "      <th>2</th>\n",
       "      <td>9</td>\n",
       "      <td>NY</td>\n",
       "    </tr>\n",
       "  </tbody>\n",
       "</table>\n",
       "</div>"
      ],
      "text/plain": [
       "   zoo_ID zoo_name\n",
       "0      12  Detroit\n",
       "1      11       LA\n",
       "2       9       NY"
      ]
     },
     "execution_count": 2,
     "metadata": {},
     "output_type": "execute_result"
    }
   ],
   "source": [
    "dfz = pandas.read_csv('../data/zoos.csv')\n",
    "dfz.head()"
   ]
  },
  {
   "cell_type": "markdown",
   "id": "9de9cde5-1f12-4f1b-ba13-4479ddc32c4d",
   "metadata": {},
   "source": [
    "### Pydantic models\n",
    "\n",
    "The Pydantic models are in `utils/schema.py`.  I am using Pydantic here for two things: \n",
    "\n",
    " 1. rename the columns by using a field alias (`id` field can also be `animal_ID`)\n",
    " 2. Data transformation/validation (cast fields to int or str)"
   ]
  },
  {
   "cell_type": "code",
   "execution_count": 3,
   "id": "0ed3a437-6572-44e6-8160-4898c739c3e1",
   "metadata": {},
   "outputs": [
    {
     "data": {
      "text/plain": [
       "<module 'utils.schemas' from '../utils/schemas.py'>"
      ]
     },
     "execution_count": 3,
     "metadata": {},
     "output_type": "execute_result"
    }
   ],
   "source": [
    "import sys\n",
    "sys.path.insert(0, \"..\")\n",
    "from utils import schemas\n",
    "schemas"
   ]
  },
  {
   "cell_type": "code",
   "execution_count": 4,
   "id": "5acb8539-1175-4825-8688-0fe05ed03701",
   "metadata": {},
   "outputs": [
    {
     "data": {
      "text/plain": [
       "[Animal(id=9992, weight=1040, zoo_id=12),\n",
       " Animal(id=99929, weight=1090, zoo_id=12),\n",
       " Animal(id=12993, weight=2190, zoo_id=11),\n",
       " Animal(id=9821, weight=750, zoo_id=11),\n",
       " Animal(id=96673, weight=580, zoo_id=11),\n",
       " Animal(id=1411, weight=690, zoo_id=12),\n",
       " Animal(id=1415, weight=695, zoo_id=9),\n",
       " Animal(id=1410, weight=690, zoo_id=9),\n",
       " Animal(id=1117, weight=1000, zoo_id=9)]"
      ]
     },
     "execution_count": 4,
     "metadata": {},
     "output_type": "execute_result"
    }
   ],
   "source": [
    "pyanimals = [schemas.Animal(**row) for row in dfa.to_dict(orient=\"records\")]\n",
    "pyanimals"
   ]
  },
  {
   "cell_type": "code",
   "execution_count": 5,
   "id": "2a98379c-df8d-4710-ac29-9b3a8353c3ef",
   "metadata": {},
   "outputs": [
    {
     "data": {
      "text/plain": [
       "[Zoo(id=12, name='Detroit'), Zoo(id=11, name='LA'), Zoo(id=9, name='NY')]"
      ]
     },
     "execution_count": 5,
     "metadata": {},
     "output_type": "execute_result"
    }
   ],
   "source": [
    "pyzoos = [schemas.Zoo(**row) for row in dfz.to_dict(orient=\"records\")]\n",
    "pyzoos"
   ]
  },
  {
   "cell_type": "markdown",
   "id": "54d1c242-f17f-4732-bc4c-97ca05a4321c",
   "metadata": {},
   "source": [
    "### SQLAlchemy models\n",
    "\n",
    "SQLAlchemy models are in `utils/models.py`.  "
   ]
  },
  {
   "cell_type": "code",
   "execution_count": 6,
   "id": "f3c22508-1a4b-4dbd-b0e1-5d41a655551a",
   "metadata": {},
   "outputs": [
    {
     "data": {
      "text/plain": [
       "<module 'utils.models' from '../utils/models.py'>"
      ]
     },
     "execution_count": 6,
     "metadata": {},
     "output_type": "execute_result"
    }
   ],
   "source": [
    "from utils import models\n",
    "models"
   ]
  },
  {
   "cell_type": "code",
   "execution_count": 7,
   "id": "1b0139fc-a076-4a81-8e74-ec36e3b8f502",
   "metadata": {},
   "outputs": [
    {
     "data": {
      "text/plain": [
       "[Animal(id=9992, weight=1040, zoo_id=12),\n",
       " Animal(id=99929, weight=1090, zoo_id=12),\n",
       " Animal(id=12993, weight=2190, zoo_id=11),\n",
       " Animal(id=9821, weight=750, zoo_id=11),\n",
       " Animal(id=96673, weight=580, zoo_id=11),\n",
       " Animal(id=1411, weight=690, zoo_id=12),\n",
       " Animal(id=1415, weight=695, zoo_id=9),\n",
       " Animal(id=1410, weight=690, zoo_id=9),\n",
       " Animal(id=1117, weight=1000, zoo_id=9)]"
      ]
     },
     "execution_count": 7,
     "metadata": {},
     "output_type": "execute_result"
    }
   ],
   "source": [
    "animals = [models.Animal(**item.dict()) for item in pyanimals]\n",
    "animals"
   ]
  },
  {
   "cell_type": "code",
   "execution_count": 8,
   "id": "14eb2363-b7fa-40cc-a16f-7a4f18e6c4c6",
   "metadata": {},
   "outputs": [
    {
     "data": {
      "text/plain": [
       "{'_sa_instance_state': <sqlalchemy.orm.state.InstanceState at 0x7fcff2788e20>,\n",
       " 'id': 9992,\n",
       " 'weight': 1040,\n",
       " 'zoo_id': 12}"
      ]
     },
     "execution_count": 8,
     "metadata": {},
     "output_type": "execute_result"
    }
   ],
   "source": [
    "animals[0].__dict__"
   ]
  },
  {
   "cell_type": "code",
   "execution_count": 9,
   "id": "862690bc-21b0-45a5-92c1-7da17fda6cf4",
   "metadata": {},
   "outputs": [
    {
     "data": {
      "text/plain": [
       "[Zoo(id=12, name='Detroit'), Zoo(id=11, name='LA'), Zoo(id=9, name='NY')]"
      ]
     },
     "execution_count": 9,
     "metadata": {},
     "output_type": "execute_result"
    }
   ],
   "source": [
    "zoos = [models.Zoo(**item.dict()) for item in pyzoos]\n",
    "zoos"
   ]
  },
  {
   "cell_type": "code",
   "execution_count": 10,
   "id": "2ad70215-d54f-4a60-b675-516c1c9f2b6a",
   "metadata": {},
   "outputs": [
    {
     "data": {
      "text/plain": [
       "{'_sa_instance_state': <sqlalchemy.orm.state.InstanceState at 0x7fcff2d26190>,\n",
       " 'id': 12,\n",
       " 'name': 'Detroit'}"
      ]
     },
     "execution_count": 10,
     "metadata": {},
     "output_type": "execute_result"
    }
   ],
   "source": [
    "zoos[0].__dict__"
   ]
  },
  {
   "cell_type": "markdown",
   "id": "9a0b86d6-59f4-46d7-8908-25771d0fef90",
   "metadata": {},
   "source": [
    "### Write to db"
   ]
  },
  {
   "cell_type": "code",
   "execution_count": 11,
   "id": "eef075a9-57b5-413d-a686-1d9caad64159",
   "metadata": {},
   "outputs": [
    {
     "data": {
      "text/plain": [
       "Engine(sqlite:///../zoo_animals.db)"
      ]
     },
     "execution_count": 11,
     "metadata": {},
     "output_type": "execute_result"
    }
   ],
   "source": [
    "import sqlalchemy as sa\n",
    "import sqlalchemy.orm\n",
    "\n",
    "engine = sa.create_engine(\"sqlite:///../zoo_animals.db\", echo=True)\n",
    "engine"
   ]
  },
  {
   "cell_type": "code",
   "execution_count": 12,
   "id": "c402528e-b303-48d1-b60e-a244dc045932",
   "metadata": {},
   "outputs": [
    {
     "name": "stdout",
     "output_type": "stream",
     "text": [
      "2021-04-30 21:11:42,798 INFO sqlalchemy.engine.base.Engine SELECT CAST('test plain returns' AS VARCHAR(60)) AS anon_1\n",
      "2021-04-30 21:11:42,800 INFO sqlalchemy.engine.base.Engine ()\n",
      "2021-04-30 21:11:42,801 INFO sqlalchemy.engine.base.Engine SELECT CAST('test unicode returns' AS VARCHAR(60)) AS anon_1\n",
      "2021-04-30 21:11:42,801 INFO sqlalchemy.engine.base.Engine ()\n",
      "2021-04-30 21:11:42,804 INFO sqlalchemy.engine.base.Engine PRAGMA main.table_info(\"zoos\")\n",
      "2021-04-30 21:11:42,805 INFO sqlalchemy.engine.base.Engine ()\n",
      "2021-04-30 21:11:42,806 INFO sqlalchemy.engine.base.Engine PRAGMA temp.table_info(\"zoos\")\n",
      "2021-04-30 21:11:42,807 INFO sqlalchemy.engine.base.Engine ()\n",
      "2021-04-30 21:11:42,808 INFO sqlalchemy.engine.base.Engine PRAGMA main.table_info(\"animals\")\n",
      "2021-04-30 21:11:42,809 INFO sqlalchemy.engine.base.Engine ()\n",
      "2021-04-30 21:11:42,810 INFO sqlalchemy.engine.base.Engine PRAGMA temp.table_info(\"animals\")\n",
      "2021-04-30 21:11:42,811 INFO sqlalchemy.engine.base.Engine ()\n",
      "2021-04-30 21:11:42,813 INFO sqlalchemy.engine.base.Engine \n",
      "CREATE TABLE zoos (\n",
      "\tid INTEGER NOT NULL, \n",
      "\tname VARCHAR, \n",
      "\tPRIMARY KEY (id)\n",
      ")\n",
      "\n",
      "\n",
      "2021-04-30 21:11:42,814 INFO sqlalchemy.engine.base.Engine ()\n",
      "2021-04-30 21:11:43,098 INFO sqlalchemy.engine.base.Engine COMMIT\n",
      "2021-04-30 21:11:43,099 INFO sqlalchemy.engine.base.Engine CREATE INDEX ix_zoos_id ON zoos (id)\n",
      "2021-04-30 21:11:43,100 INFO sqlalchemy.engine.base.Engine ()\n",
      "2021-04-30 21:11:43,264 INFO sqlalchemy.engine.base.Engine COMMIT\n",
      "2021-04-30 21:11:43,266 INFO sqlalchemy.engine.base.Engine \n",
      "CREATE TABLE animals (\n",
      "\tid INTEGER NOT NULL, \n",
      "\tweight INTEGER, \n",
      "\tzoo_id INTEGER, \n",
      "\tPRIMARY KEY (id), \n",
      "\tFOREIGN KEY(zoo_id) REFERENCES zoos (id)\n",
      ")\n",
      "\n",
      "\n",
      "2021-04-30 21:11:43,266 INFO sqlalchemy.engine.base.Engine ()\n",
      "2021-04-30 21:11:43,617 INFO sqlalchemy.engine.base.Engine COMMIT\n",
      "2021-04-30 21:11:43,619 INFO sqlalchemy.engine.base.Engine CREATE INDEX ix_animals_id ON animals (id)\n",
      "2021-04-30 21:11:43,620 INFO sqlalchemy.engine.base.Engine ()\n",
      "2021-04-30 21:11:43,934 INFO sqlalchemy.engine.base.Engine COMMIT\n"
     ]
    }
   ],
   "source": [
    "# Create tables\n",
    "models.Base.metadata.create_all(engine)"
   ]
  },
  {
   "cell_type": "code",
   "execution_count": 13,
   "id": "043e84a2-885d-4793-9237-04de68bf0bc6",
   "metadata": {},
   "outputs": [],
   "source": [
    "LocalSession = sa.orm.sessionmaker(bind=engine)\n",
    "db = LocalSession()"
   ]
  },
  {
   "cell_type": "code",
   "execution_count": 14,
   "id": "b54a5d6b-807c-4e6d-9803-b89dfd9541f3",
   "metadata": {},
   "outputs": [
    {
     "name": "stdout",
     "output_type": "stream",
     "text": [
      "2021-04-30 21:11:44,257 INFO sqlalchemy.engine.base.Engine BEGIN (implicit)\n",
      "2021-04-30 21:11:44,259 INFO sqlalchemy.engine.base.Engine INSERT INTO zoos (id, name) VALUES (?, ?)\n",
      "2021-04-30 21:11:44,259 INFO sqlalchemy.engine.base.Engine ((12, 'Detroit'), (11, 'LA'), (9, 'NY'))\n",
      "2021-04-30 21:11:44,261 INFO sqlalchemy.engine.base.Engine COMMIT\n"
     ]
    }
   ],
   "source": [
    "db.add_all(zoos)\n",
    "db.commit()"
   ]
  },
  {
   "cell_type": "code",
   "execution_count": 15,
   "id": "ffaaf551-d12a-4893-9f64-394a5a229d2e",
   "metadata": {},
   "outputs": [
    {
     "name": "stdout",
     "output_type": "stream",
     "text": [
      "2021-04-30 21:11:44,630 INFO sqlalchemy.engine.base.Engine BEGIN (implicit)\n",
      "2021-04-30 21:11:44,636 INFO sqlalchemy.engine.base.Engine INSERT INTO animals (id, weight, zoo_id) VALUES (?, ?, ?)\n",
      "2021-04-30 21:11:44,639 INFO sqlalchemy.engine.base.Engine ((9992, 1040, 12), (99929, 1090, 12), (12993, 2190, 11), (9821, 750, 11), (96673, 580, 11), (1411, 690, 12), (1415, 695, 9), (1410, 690, 9), (1117, 1000, 9))\n",
      "2021-04-30 21:11:44,645 INFO sqlalchemy.engine.base.Engine COMMIT\n"
     ]
    }
   ],
   "source": [
    "db.add_all(animals)\n",
    "db.commit()"
   ]
  },
  {
   "cell_type": "code",
   "execution_count": 16,
   "id": "c63ef20c-2c9f-41d9-af88-13142c5ece70",
   "metadata": {},
   "outputs": [],
   "source": [
    "db.close()"
   ]
  },
  {
   "cell_type": "markdown",
   "id": "4c6453af-5a8c-41ce-a3f4-456f56e27ec2",
   "metadata": {},
   "source": [
    "### Sanity check that the data is in there"
   ]
  },
  {
   "cell_type": "code",
   "execution_count": 17,
   "id": "1075b0ae-806a-4e16-a6ce-ac19b27de781",
   "metadata": {},
   "outputs": [
    {
     "name": "stdout",
     "output_type": "stream",
     "text": [
      "2021-04-30 21:11:45,223 INFO sqlalchemy.engine.base.Engine BEGIN (implicit)\n",
      "2021-04-30 21:11:45,225 INFO sqlalchemy.engine.base.Engine SELECT animals.id AS animals_id, animals.weight AS animals_weight, animals.zoo_id AS animals_zoo_id \n",
      "FROM animals\n",
      " LIMIT ? OFFSET ?\n",
      "2021-04-30 21:11:45,226 INFO sqlalchemy.engine.base.Engine (1, 0)\n"
     ]
    },
    {
     "data": {
      "text/plain": [
       "Animal(id=1117, weight=1000, zoo_id=9)"
      ]
     },
     "execution_count": 17,
     "metadata": {},
     "output_type": "execute_result"
    }
   ],
   "source": [
    "db = LocalSession()\n",
    "item = db.query(models.Animal).first()\n",
    "item"
   ]
  },
  {
   "cell_type": "code",
   "execution_count": 18,
   "id": "65fc5d75-c534-4f4c-8654-78103b9ac890",
   "metadata": {},
   "outputs": [
    {
     "data": {
      "text/plain": [
       "{'_sa_instance_state': <sqlalchemy.orm.state.InstanceState at 0x7fcff17f4c40>,\n",
       " 'zoo_id': 9,\n",
       " 'weight': 1000,\n",
       " 'id': 1117}"
      ]
     },
     "execution_count": 18,
     "metadata": {},
     "output_type": "execute_result"
    }
   ],
   "source": [
    "item.__dict__"
   ]
  },
  {
   "cell_type": "code",
   "execution_count": 19,
   "id": "584e618a-adf7-4639-9b80-eddccbbbd530",
   "metadata": {},
   "outputs": [
    {
     "name": "stdout",
     "output_type": "stream",
     "text": [
      "2021-04-30 21:11:45,540 INFO sqlalchemy.engine.base.Engine SELECT zoos.id AS zoos_id, zoos.name AS zoos_name \n",
      "FROM zoos \n",
      "WHERE zoos.id = ?\n",
      "2021-04-30 21:11:45,541 INFO sqlalchemy.engine.base.Engine (9,)\n"
     ]
    },
    {
     "data": {
      "text/plain": [
       "{'_sa_instance_state': <sqlalchemy.orm.state.InstanceState at 0x7fcff1802760>,\n",
       " 'id': 9,\n",
       " 'name': 'NY'}"
      ]
     },
     "execution_count": 19,
     "metadata": {},
     "output_type": "execute_result"
    }
   ],
   "source": [
    "item.zoo.__dict__"
   ]
  },
  {
   "cell_type": "code",
   "execution_count": 20,
   "id": "2060d18f-961d-4699-a740-e27b5dd70165",
   "metadata": {},
   "outputs": [
    {
     "name": "stdout",
     "output_type": "stream",
     "text": [
      "2021-04-30 21:11:45,691 INFO sqlalchemy.engine.base.Engine SELECT count(*) AS count_1 \n",
      "FROM (SELECT animals.id AS animals_id, animals.weight AS animals_weight, animals.zoo_id AS animals_zoo_id \n",
      "FROM animals) AS anon_1\n",
      "2021-04-30 21:11:45,692 INFO sqlalchemy.engine.base.Engine ()\n"
     ]
    },
    {
     "data": {
      "text/plain": [
       "9"
      ]
     },
     "execution_count": 20,
     "metadata": {},
     "output_type": "execute_result"
    }
   ],
   "source": [
    "db.query(models.Animal).count()"
   ]
  },
  {
   "cell_type": "code",
   "execution_count": 21,
   "id": "40b78580-8adb-4924-af53-07952b3259c4",
   "metadata": {},
   "outputs": [
    {
     "name": "stdout",
     "output_type": "stream",
     "text": [
      "2021-04-30 21:11:45,850 INFO sqlalchemy.engine.base.Engine SELECT count(*) AS count_1 \n",
      "FROM (SELECT zoos.id AS zoos_id, zoos.name AS zoos_name \n",
      "FROM zoos) AS anon_1\n",
      "2021-04-30 21:11:45,851 INFO sqlalchemy.engine.base.Engine ()\n"
     ]
    },
    {
     "data": {
      "text/plain": [
       "3"
      ]
     },
     "execution_count": 21,
     "metadata": {},
     "output_type": "execute_result"
    }
   ],
   "source": [
    "db.query(models.Zoo).count()"
   ]
  },
  {
   "cell_type": "code",
   "execution_count": 22,
   "id": "b838dce2-8bdc-4d18-9de0-c574cd77f4c9",
   "metadata": {},
   "outputs": [
    {
     "name": "stdout",
     "output_type": "stream",
     "text": [
      "2021-04-30 21:11:45,991 INFO sqlalchemy.engine.base.Engine PRAGMA main.table_info(\"select * from animals\")\n",
      "2021-04-30 21:11:45,992 INFO sqlalchemy.engine.base.Engine ()\n",
      "2021-04-30 21:11:45,994 INFO sqlalchemy.engine.base.Engine PRAGMA temp.table_info(\"select * from animals\")\n",
      "2021-04-30 21:11:45,994 INFO sqlalchemy.engine.base.Engine ()\n",
      "2021-04-30 21:11:45,996 INFO sqlalchemy.engine.base.OptionEngine select * from animals\n",
      "2021-04-30 21:11:45,997 INFO sqlalchemy.engine.base.OptionEngine ()\n"
     ]
    },
    {
     "data": {
      "text/html": [
       "<div>\n",
       "<style scoped>\n",
       "    .dataframe tbody tr th:only-of-type {\n",
       "        vertical-align: middle;\n",
       "    }\n",
       "\n",
       "    .dataframe tbody tr th {\n",
       "        vertical-align: top;\n",
       "    }\n",
       "\n",
       "    .dataframe thead th {\n",
       "        text-align: right;\n",
       "    }\n",
       "</style>\n",
       "<table border=\"1\" class=\"dataframe\">\n",
       "  <thead>\n",
       "    <tr style=\"text-align: right;\">\n",
       "      <th></th>\n",
       "      <th>id</th>\n",
       "      <th>weight</th>\n",
       "      <th>zoo_id</th>\n",
       "    </tr>\n",
       "  </thead>\n",
       "  <tbody>\n",
       "    <tr>\n",
       "      <th>0</th>\n",
       "      <td>1117</td>\n",
       "      <td>1000</td>\n",
       "      <td>9</td>\n",
       "    </tr>\n",
       "    <tr>\n",
       "      <th>1</th>\n",
       "      <td>1410</td>\n",
       "      <td>690</td>\n",
       "      <td>9</td>\n",
       "    </tr>\n",
       "    <tr>\n",
       "      <th>2</th>\n",
       "      <td>1411</td>\n",
       "      <td>690</td>\n",
       "      <td>12</td>\n",
       "    </tr>\n",
       "    <tr>\n",
       "      <th>3</th>\n",
       "      <td>1415</td>\n",
       "      <td>695</td>\n",
       "      <td>9</td>\n",
       "    </tr>\n",
       "    <tr>\n",
       "      <th>4</th>\n",
       "      <td>9821</td>\n",
       "      <td>750</td>\n",
       "      <td>11</td>\n",
       "    </tr>\n",
       "    <tr>\n",
       "      <th>5</th>\n",
       "      <td>9992</td>\n",
       "      <td>1040</td>\n",
       "      <td>12</td>\n",
       "    </tr>\n",
       "    <tr>\n",
       "      <th>6</th>\n",
       "      <td>12993</td>\n",
       "      <td>2190</td>\n",
       "      <td>11</td>\n",
       "    </tr>\n",
       "    <tr>\n",
       "      <th>7</th>\n",
       "      <td>96673</td>\n",
       "      <td>580</td>\n",
       "      <td>11</td>\n",
       "    </tr>\n",
       "    <tr>\n",
       "      <th>8</th>\n",
       "      <td>99929</td>\n",
       "      <td>1090</td>\n",
       "      <td>12</td>\n",
       "    </tr>\n",
       "  </tbody>\n",
       "</table>\n",
       "</div>"
      ],
      "text/plain": [
       "      id  weight  zoo_id\n",
       "0   1117    1000       9\n",
       "1   1410     690       9\n",
       "2   1411     690      12\n",
       "3   1415     695       9\n",
       "4   9821     750      11\n",
       "5   9992    1040      12\n",
       "6  12993    2190      11\n",
       "7  96673     580      11\n",
       "8  99929    1090      12"
      ]
     },
     "execution_count": 22,
     "metadata": {},
     "output_type": "execute_result"
    }
   ],
   "source": [
    "df = pandas.read_sql(\"select * from animals\", engine)\n",
    "df"
   ]
  },
  {
   "cell_type": "code",
   "execution_count": null,
   "id": "197d0cf9-e2c8-448e-8eb3-48f8b928264a",
   "metadata": {},
   "outputs": [],
   "source": []
  }
 ],
 "metadata": {
  "kernelspec": {
   "display_name": "Python 3",
   "language": "python",
   "name": "python3"
  },
  "language_info": {
   "codemirror_mode": {
    "name": "ipython",
    "version": 3
   },
   "file_extension": ".py",
   "mimetype": "text/x-python",
   "name": "python",
   "nbconvert_exporter": "python",
   "pygments_lexer": "ipython3",
   "version": "3.8.5"
  }
 },
 "nbformat": 4,
 "nbformat_minor": 5
}
