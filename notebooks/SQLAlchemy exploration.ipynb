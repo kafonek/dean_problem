{
 "cells": [
  {
   "cell_type": "markdown",
   "id": "a6cd68db-3b94-47cd-b04b-d181ac0ce2ce",
   "metadata": {},
   "source": [
    "### Question\n",
    "\n",
    "\"Find the second heaviest animal in the table from each zoo.  In addition to the animal information, return the zoo name as well\""
   ]
  },
  {
   "cell_type": "markdown",
   "id": "07e31601-7ed0-4418-b8a7-f7d2adba3242",
   "metadata": {},
   "source": [
    "### SQLAlchemy Exploration\n",
    "\n",
    "This Notebook doesn't have a direct solution like the `Pandas Solution.ipynb`.  It is more of an exploration about what can be done with SQL and SQLAlchemy.  Some of the sections answer the question, but I'm not sure what the \"right\" way to do it is."
   ]
  },
  {
   "cell_type": "markdown",
   "id": "39871ffc-c482-467e-bd24-7827670bc836",
   "metadata": {},
   "source": [
    "### Database creation and model imports\n",
    "\n",
    "SQLAlchemy models are in `utils/models.py` and Pydantic models are in `utils/schemas.py`.  While the SQLAlchemy objects are using Pydantic for `repr`, and we used Pydantic to normalize the data ingest in `Cleaning Data.ipynb`, the Pydantic models are not used directly at all here."
   ]
  },
  {
   "cell_type": "code",
   "execution_count": 1,
   "id": "82ce5e38-cfdf-4b98-ad91-b760ec562b03",
   "metadata": {},
   "outputs": [
    {
     "name": "stdout",
     "output_type": "stream",
     "text": [
      "import sqlalchemy as sa\n",
      "import sqlalchemy.orm\n",
      "from sqlalchemy.ext.declarative import declarative_base\n",
      "\n",
      "from . import schemas\n",
      "\n",
      "# ^^ declarative_base also available from sqlalchemy.orm if you have 1.4+\n",
      "\n",
      "Base = declarative_base()\n",
      "\n",
      "\n",
      "class Zoo(Base):\n",
      "    __tablename__ = \"zoos\"\n",
      "    id = sa.Column(sa.Integer, primary_key=True, index=True)\n",
      "    name = sa.Column(sa.String)\n",
      "    animals = sa.orm.relationship(\"Animal\", back_populates=\"zoo\", order_by=\"desc(Animal.weight)\")\n",
      "\n",
      "    def __repr__(self):\n",
      "        return repr(schemas.Zoo.from_orm(self))\n",
      "\n",
      "\n",
      "class Animal(Base):\n",
      "    __tablename__ = \"animals\"\n",
      "    id = sa.Column(sa.Integer, primary_key=True, index=True)\n",
      "    weight = sa.Column(sa.Integer)\n",
      "    zoo_id = sa.Column(sa.Integer, sa.ForeignKey(\"zoos.id\"))\n",
      "    zoo = sa.orm.relationship(\"Zoo\", back_populates=\"animals\")\n",
      "\n",
      "    def __repr__(self):\n",
      "        return repr(schemas.Animal.from_orm(self))\n"
     ]
    }
   ],
   "source": [
    "!cat ../utils/models.py"
   ]
  },
  {
   "cell_type": "code",
   "execution_count": 2,
   "id": "4efd2ede-d058-4af5-8109-69511d4b0e2a",
   "metadata": {},
   "outputs": [
    {
     "data": {
      "text/plain": [
       "(utils.models.Animal, utils.models.Zoo)"
      ]
     },
     "execution_count": 2,
     "metadata": {},
     "output_type": "execute_result"
    }
   ],
   "source": [
    "import sys\n",
    "sys.path.insert(0, \"..\")\n",
    "from utils.models import Animal, Zoo\n",
    "Animal, Zoo"
   ]
  },
  {
   "cell_type": "code",
   "execution_count": 3,
   "id": "06079333-70cd-45c3-8bc4-12315e55a465",
   "metadata": {},
   "outputs": [
    {
     "data": {
      "text/plain": [
       "(sqlalchemy.ext.declarative.api.DeclarativeMeta,\n",
       " sqlalchemy.ext.declarative.api.DeclarativeMeta)"
      ]
     },
     "execution_count": 3,
     "metadata": {},
     "output_type": "execute_result"
    }
   ],
   "source": [
    "type(Animal), type(Zoo)"
   ]
  },
  {
   "cell_type": "code",
   "execution_count": 4,
   "id": "88f4fdd3-f39a-479f-a8a0-88178aca9d32",
   "metadata": {},
   "outputs": [
    {
     "data": {
      "text/plain": [
       "<sqlalchemy.orm.session.Session at 0x7f8a014f74f0>"
      ]
     },
     "execution_count": 4,
     "metadata": {},
     "output_type": "execute_result"
    }
   ],
   "source": [
    "import sqlalchemy as sa\n",
    "import sqlalchemy.orm\n",
    "\n",
    "# echo=True will print out all the sql query statements that are executed\n",
    "# set echo=False for less verbosity\n",
    "engine = sa.create_engine(\"sqlite:///../zoo_animals.db\", echo=True)\n",
    "LocalSession = sa.orm.sessionmaker(bind=engine)\n",
    "db = LocalSession()\n",
    "db"
   ]
  },
  {
   "cell_type": "markdown",
   "id": "d0cebabf-de53-492e-9f44-b32c4f15b5ea",
   "metadata": {},
   "source": [
    "### Exploring the database"
   ]
  },
  {
   "cell_type": "code",
   "execution_count": 5,
   "id": "16f3b86b-3936-4e60-8c1b-c6b38a78a1bd",
   "metadata": {},
   "outputs": [
    {
     "name": "stdout",
     "output_type": "stream",
     "text": [
      "2021-04-30 22:23:19,910 INFO sqlalchemy.engine.base.Engine SELECT CAST('test plain returns' AS VARCHAR(60)) AS anon_1\n",
      "2021-04-30 22:23:19,911 INFO sqlalchemy.engine.base.Engine ()\n",
      "2021-04-30 22:23:19,914 INFO sqlalchemy.engine.base.Engine SELECT CAST('test unicode returns' AS VARCHAR(60)) AS anon_1\n",
      "2021-04-30 22:23:19,915 INFO sqlalchemy.engine.base.Engine ()\n",
      "2021-04-30 22:23:19,917 INFO sqlalchemy.engine.base.Engine SELECT name FROM sqlite_master WHERE type='table' ORDER BY name\n",
      "2021-04-30 22:23:19,918 INFO sqlalchemy.engine.base.Engine ()\n"
     ]
    },
    {
     "data": {
      "text/plain": [
       "['animals', 'zoos']"
      ]
     },
     "execution_count": 5,
     "metadata": {},
     "output_type": "execute_result"
    }
   ],
   "source": [
    "engine.table_names()"
   ]
  },
  {
   "cell_type": "code",
   "execution_count": 6,
   "id": "aab69beb-b181-4fe9-a802-44e6b97c0fbf",
   "metadata": {},
   "outputs": [
    {
     "name": "stdout",
     "output_type": "stream",
     "text": [
      "2021-04-30 22:23:20,062 INFO sqlalchemy.engine.base.Engine BEGIN (implicit)\n",
      "2021-04-30 22:23:20,063 INFO sqlalchemy.engine.base.Engine SELECT count(*) AS count_1 \n",
      "FROM (SELECT animals.id AS animals_id, animals.weight AS animals_weight, animals.zoo_id AS animals_zoo_id \n",
      "FROM animals) AS anon_1\n",
      "2021-04-30 22:23:20,064 INFO sqlalchemy.engine.base.Engine ()\n"
     ]
    },
    {
     "data": {
      "text/plain": [
       "9"
      ]
     },
     "execution_count": 6,
     "metadata": {},
     "output_type": "execute_result"
    }
   ],
   "source": [
    "# Getting row counts\n",
    "db.query(Animal).count()"
   ]
  },
  {
   "cell_type": "code",
   "execution_count": 7,
   "id": "e3a103d6-2292-4a11-b55f-474e89ab0878",
   "metadata": {},
   "outputs": [
    {
     "name": "stdout",
     "output_type": "stream",
     "text": [
      "2021-04-30 22:23:20,201 INFO sqlalchemy.engine.base.Engine SELECT count(animals.id) AS count_1 \n",
      "FROM animals\n",
      "2021-04-30 22:23:20,202 INFO sqlalchemy.engine.base.Engine ()\n"
     ]
    },
    {
     "data": {
      "text/plain": [
       "9"
      ]
     },
     "execution_count": 7,
     "metadata": {},
     "output_type": "execute_result"
    }
   ],
   "source": [
    "# Alternative count query\n",
    "db.query(sa.func.count(Animal.id)).scalar()"
   ]
  },
  {
   "cell_type": "markdown",
   "id": "33f0b651-1be4-40fd-ab30-e463e1543f37",
   "metadata": {},
   "source": [
    "### Models\n",
    "\n",
    "As seen in the `models.py` earlier, the SQLAlchemy models actually use Pydantic for their `repr` so that they look nicer.  Don't be fooled by the output, they're still SQLAlchemy objects.  They also have lazy-loading relationship attributes.  For instance if you start with one Animal, you can jump to the Zoo it belongs to, and then to all other Animals in that Zoo."
   ]
  },
  {
   "cell_type": "code",
   "execution_count": 8,
   "id": "ae885fd7-381c-4d56-8a35-8f1b14e05d5c",
   "metadata": {},
   "outputs": [
    {
     "name": "stdout",
     "output_type": "stream",
     "text": [
      "2021-04-30 22:23:20,343 INFO sqlalchemy.engine.base.Engine SELECT animals.id AS animals_id, animals.weight AS animals_weight, animals.zoo_id AS animals_zoo_id \n",
      "FROM animals\n",
      " LIMIT ? OFFSET ?\n",
      "2021-04-30 22:23:20,344 INFO sqlalchemy.engine.base.Engine (1, 0)\n"
     ]
    },
    {
     "data": {
      "text/plain": [
       "Animal(id=1117, weight=1000, zoo_id=9)"
      ]
     },
     "execution_count": 8,
     "metadata": {},
     "output_type": "execute_result"
    }
   ],
   "source": [
    "item = db.query(Animal).first()\n",
    "item"
   ]
  },
  {
   "cell_type": "code",
   "execution_count": 9,
   "id": "8492f742-66dd-40b0-8daa-30a346420fc5",
   "metadata": {},
   "outputs": [
    {
     "data": {
      "text/plain": [
       "{'_sa_instance_state': <sqlalchemy.orm.state.InstanceState at 0x7f8a0146c3d0>,\n",
       " 'weight': 1000,\n",
       " 'zoo_id': 9,\n",
       " 'id': 1117}"
      ]
     },
     "execution_count": 9,
     "metadata": {},
     "output_type": "execute_result"
    }
   ],
   "source": [
    "item.__dict__"
   ]
  },
  {
   "cell_type": "code",
   "execution_count": 10,
   "id": "928c5de0-4aab-42d5-b528-40aefec731db",
   "metadata": {},
   "outputs": [
    {
     "data": {
      "text/plain": [
       "1117"
      ]
     },
     "execution_count": 10,
     "metadata": {},
     "output_type": "execute_result"
    }
   ],
   "source": [
    "item.id"
   ]
  },
  {
   "cell_type": "code",
   "execution_count": 11,
   "id": "cf5c2bb4-2696-44eb-a4ae-369baaf3d880",
   "metadata": {},
   "outputs": [
    {
     "name": "stdout",
     "output_type": "stream",
     "text": [
      "2021-04-30 22:23:20,910 INFO sqlalchemy.engine.base.Engine SELECT zoos.id AS zoos_id, zoos.name AS zoos_name \n",
      "FROM zoos \n",
      "WHERE zoos.id = ?\n",
      "2021-04-30 22:23:20,911 INFO sqlalchemy.engine.base.Engine (9,)\n"
     ]
    },
    {
     "data": {
      "text/plain": [
       "Zoo(id=9, name='NY')"
      ]
     },
     "execution_count": 11,
     "metadata": {},
     "output_type": "execute_result"
    }
   ],
   "source": [
    "item.zoo"
   ]
  },
  {
   "cell_type": "code",
   "execution_count": 12,
   "id": "7d0817ec-1d1f-4759-b4fd-ed2560cbd5fd",
   "metadata": {},
   "outputs": [
    {
     "data": {
      "text/plain": [
       "{'_sa_instance_state': <sqlalchemy.orm.state.InstanceState at 0x7f8a0149f130>,\n",
       " 'name': 'NY',\n",
       " 'id': 9}"
      ]
     },
     "execution_count": 12,
     "metadata": {},
     "output_type": "execute_result"
    }
   ],
   "source": [
    "item.zoo.__dict__"
   ]
  },
  {
   "cell_type": "code",
   "execution_count": 13,
   "id": "1135765b-0150-41a1-bcc0-88054ac58952",
   "metadata": {},
   "outputs": [
    {
     "name": "stdout",
     "output_type": "stream",
     "text": [
      "2021-04-30 22:23:21,277 INFO sqlalchemy.engine.base.Engine SELECT animals.id AS animals_id, animals.weight AS animals_weight, animals.zoo_id AS animals_zoo_id \n",
      "FROM animals \n",
      "WHERE ? = animals.zoo_id ORDER BY animals.weight DESC\n",
      "2021-04-30 22:23:21,279 INFO sqlalchemy.engine.base.Engine (9,)\n"
     ]
    },
    {
     "data": {
      "text/plain": [
       "[Animal(id=1117, weight=1000, zoo_id=9),\n",
       " Animal(id=1415, weight=695, zoo_id=9),\n",
       " Animal(id=1410, weight=690, zoo_id=9)]"
      ]
     },
     "execution_count": 13,
     "metadata": {},
     "output_type": "execute_result"
    }
   ],
   "source": [
    "item.zoo.animals"
   ]
  },
  {
   "cell_type": "markdown",
   "id": "6bf76b5f-9de3-4ba0-84b4-d0cfded5ab09",
   "metadata": {},
   "source": [
    "### Ordered Relationships\n",
    "\n",
    "One \"cheat\" way of answering the original question is by architecting the database towards it.  The `Zoo.animals` relationship is ordered by weight."
   ]
  },
  {
   "cell_type": "code",
   "execution_count": 14,
   "id": "26ce43c2-229e-48cb-a174-a15c7053b07d",
   "metadata": {},
   "outputs": [
    {
     "name": "stdout",
     "output_type": "stream",
     "text": [
      "2021-04-30 22:23:21,519 INFO sqlalchemy.engine.base.Engine SELECT animals.id AS animals_id, animals.weight AS animals_weight, animals.zoo_id AS animals_zoo_id \n",
      "FROM animals GROUP BY animals.zoo_id\n",
      "2021-04-30 22:23:21,521 INFO sqlalchemy.engine.base.Engine ()\n"
     ]
    },
    {
     "data": {
      "text/plain": [
       "[Animal(id=1117, weight=1000, zoo_id=9),\n",
       " Animal(id=9821, weight=750, zoo_id=11),\n",
       " Animal(id=1411, weight=690, zoo_id=12)]"
      ]
     },
     "execution_count": 14,
     "metadata": {},
     "output_type": "execute_result"
    }
   ],
   "source": [
    "items = db.query(Animal).group_by(Animal.zoo_id).all()\n",
    "items"
   ]
  },
  {
   "cell_type": "code",
   "execution_count": 15,
   "id": "ba958be6-d361-4d24-b269-64a14da2ddf7",
   "metadata": {},
   "outputs": [
    {
     "name": "stdout",
     "output_type": "stream",
     "text": [
      "2021-04-30 22:23:21,796 INFO sqlalchemy.engine.base.Engine SELECT zoos.id AS zoos_id, zoos.name AS zoos_name \n",
      "FROM zoos \n",
      "WHERE zoos.id = ?\n",
      "2021-04-30 22:23:21,800 INFO sqlalchemy.engine.base.Engine (11,)\n",
      "2021-04-30 22:23:21,807 INFO sqlalchemy.engine.base.Engine SELECT animals.id AS animals_id, animals.weight AS animals_weight, animals.zoo_id AS animals_zoo_id \n",
      "FROM animals \n",
      "WHERE ? = animals.zoo_id ORDER BY animals.weight DESC\n",
      "2021-04-30 22:23:21,809 INFO sqlalchemy.engine.base.Engine (11,)\n",
      "2021-04-30 22:23:21,814 INFO sqlalchemy.engine.base.Engine SELECT zoos.id AS zoos_id, zoos.name AS zoos_name \n",
      "FROM zoos \n",
      "WHERE zoos.id = ?\n",
      "2021-04-30 22:23:21,817 INFO sqlalchemy.engine.base.Engine (12,)\n",
      "2021-04-30 22:23:21,819 INFO sqlalchemy.engine.base.Engine SELECT animals.id AS animals_id, animals.weight AS animals_weight, animals.zoo_id AS animals_zoo_id \n",
      "FROM animals \n",
      "WHERE ? = animals.zoo_id ORDER BY animals.weight DESC\n",
      "2021-04-30 22:23:21,821 INFO sqlalchemy.engine.base.Engine (12,)\n"
     ]
    },
    {
     "data": {
      "text/plain": [
       "[Animal(id=1415, weight=695, zoo_id=9),\n",
       " Animal(id=9821, weight=750, zoo_id=11),\n",
       " Animal(id=9992, weight=1040, zoo_id=12)]"
      ]
     },
     "execution_count": 15,
     "metadata": {},
     "output_type": "execute_result"
    }
   ],
   "source": [
    "answers = [item.zoo.animals[1] for item in items]\n",
    "answers"
   ]
  },
  {
   "cell_type": "code",
   "execution_count": 16,
   "id": "da3b1d5b-61af-4f2c-a179-d743d6ac6504",
   "metadata": {},
   "outputs": [
    {
     "name": "stdout",
     "output_type": "stream",
     "text": [
      "NY (9): 695 (1415)\n",
      "LA (11): 750 (9821)\n",
      "Detroit (12): 1040 (9992)\n"
     ]
    }
   ],
   "source": [
    "for item in answers:\n",
    "    print(\"%s (%s): %s (%s)\" % (item.zoo.name, item.zoo.id, item.weight, item.id))"
   ]
  },
  {
   "cell_type": "markdown",
   "id": "5b596dc3-93af-43a9-bf88-fa3198013474",
   "metadata": {},
   "source": [
    "### Over / Row Numbering\n",
    "\n",
    "Instead of using the relations in the database, we could also using the `row_number() OVER` function native to sqlite3 to add a new column based on partitioning by `animals.zoo_id` and ordered by `animal.weight`.  Then we can filter on that row number."
   ]
  },
  {
   "cell_type": "code",
   "execution_count": 17,
   "id": "505a34b5-e9a2-4fb9-b3a8-8dbc44f40584",
   "metadata": {},
   "outputs": [
    {
     "data": {
      "text/plain": [
       "<sqlalchemy.sql.elements.Over object at 0x7f8a01428490>"
      ]
     },
     "execution_count": 17,
     "metadata": {},
     "output_type": "execute_result"
    }
   ],
   "source": [
    "func = sa.func.row_number().over(order_by=Animal.weight.desc(), partition_by=Animal.zoo_id)\n",
    "func"
   ]
  },
  {
   "cell_type": "code",
   "execution_count": 18,
   "id": "edc1b2af-8108-4924-ae04-5ba02f0884a1",
   "metadata": {},
   "outputs": [
    {
     "data": {
      "text/plain": [
       "<sqlalchemy.sql.elements.Label object at 0x7f8a0149fa00>"
      ]
     },
     "execution_count": 18,
     "metadata": {},
     "output_type": "execute_result"
    }
   ],
   "source": [
    "label = func.label(\"row_number\")\n",
    "label"
   ]
  },
  {
   "cell_type": "code",
   "execution_count": 19,
   "id": "4c0d0557-a962-43c6-be0c-5d530aecdcd4",
   "metadata": {},
   "outputs": [
    {
     "name": "stdout",
     "output_type": "stream",
     "text": [
      "2021-04-30 22:23:22,586 INFO sqlalchemy.engine.base.Engine SELECT row_number() OVER (PARTITION BY animals.zoo_id ORDER BY animals.weight DESC) AS row_number \n",
      "FROM animals\n",
      "2021-04-30 22:23:22,589 INFO sqlalchemy.engine.base.Engine ()\n"
     ]
    },
    {
     "data": {
      "text/plain": [
       "[(1), (2), (3), (1), (2), (3), (1), (2), (3)]"
      ]
     },
     "execution_count": 19,
     "metadata": {},
     "output_type": "execute_result"
    }
   ],
   "source": [
    "db.query(label).all()"
   ]
  },
  {
   "cell_type": "code",
   "execution_count": 20,
   "id": "ec874d08-ae2d-4c32-a757-f091d23d38e9",
   "metadata": {},
   "outputs": [
    {
     "name": "stdout",
     "output_type": "stream",
     "text": [
      "2021-04-30 22:23:22,801 INFO sqlalchemy.engine.base.Engine SELECT animals.id AS animals_id, animals.weight AS animals_weight, animals.zoo_id AS animals_zoo_id, row_number() OVER (PARTITION BY animals.zoo_id ORDER BY animals.weight DESC) AS row_number \n",
      "FROM animals\n",
      "2021-04-30 22:23:22,802 INFO sqlalchemy.engine.base.Engine ()\n"
     ]
    },
    {
     "data": {
      "text/plain": [
       "[(Animal(id=1117, weight=1000, zoo_id=9), 1),\n",
       " (Animal(id=1415, weight=695, zoo_id=9), 2),\n",
       " (Animal(id=1410, weight=690, zoo_id=9), 3),\n",
       " (Animal(id=12993, weight=2190, zoo_id=11), 1),\n",
       " (Animal(id=9821, weight=750, zoo_id=11), 2),\n",
       " (Animal(id=96673, weight=580, zoo_id=11), 3),\n",
       " (Animal(id=99929, weight=1090, zoo_id=12), 1),\n",
       " (Animal(id=9992, weight=1040, zoo_id=12), 2),\n",
       " (Animal(id=1411, weight=690, zoo_id=12), 3)]"
      ]
     },
     "execution_count": 20,
     "metadata": {},
     "output_type": "execute_result"
    }
   ],
   "source": [
    "db.query(Animal, label).all()"
   ]
  },
  {
   "cell_type": "markdown",
   "id": "2e5f1278-774b-4be4-ad9e-03ef4500226a",
   "metadata": {},
   "source": [
    "#### As a subquery"
   ]
  },
  {
   "cell_type": "code",
   "execution_count": 21,
   "id": "9ad3e96c-9bf5-4a24-a93f-1871481e7668",
   "metadata": {},
   "outputs": [
    {
     "data": {
      "text/plain": [
       "<sqlalchemy.sql.selectable.Alias at 0x7f8a01438430; %(140230703416368 anon)s>"
      ]
     },
     "execution_count": 21,
     "metadata": {},
     "output_type": "execute_result"
    }
   ],
   "source": [
    "sq = db.query(Animal.id, sa.func.row_number().over(order_by=Animal.weight.desc(), partition_by=Animal.zoo_id).label(\"row_number\")).subquery()\n",
    "sq"
   ]
  },
  {
   "cell_type": "code",
   "execution_count": 22,
   "id": "7dc0cd4b-9779-4bde-b67b-66f9526c6584",
   "metadata": {},
   "outputs": [
    {
     "name": "stdout",
     "output_type": "stream",
     "text": [
      "2021-04-30 22:23:23,110 INFO sqlalchemy.engine.base.Engine SELECT anon_1.id AS anon_1_id, anon_1.row_number AS anon_1_row_number \n",
      "FROM (SELECT animals.id AS id, row_number() OVER (PARTITION BY animals.zoo_id ORDER BY animals.weight DESC) AS row_number \n",
      "FROM animals) AS anon_1\n",
      "2021-04-30 22:23:23,111 INFO sqlalchemy.engine.base.Engine ()\n"
     ]
    },
    {
     "data": {
      "text/plain": [
       "[(1117, 1),\n",
       " (1415, 2),\n",
       " (1410, 3),\n",
       " (12993, 1),\n",
       " (9821, 2),\n",
       " (96673, 3),\n",
       " (99929, 1),\n",
       " (9992, 2),\n",
       " (1411, 3)]"
      ]
     },
     "execution_count": 22,
     "metadata": {},
     "output_type": "execute_result"
    }
   ],
   "source": [
    "db.query(sq).all()"
   ]
  },
  {
   "cell_type": "code",
   "execution_count": 23,
   "id": "2d754745-5f65-4f49-af3d-c0c5b8de3510",
   "metadata": {},
   "outputs": [
    {
     "name": "stdout",
     "output_type": "stream",
     "text": [
      "2021-04-30 22:23:23,260 INFO sqlalchemy.engine.base.Engine SELECT animals.id AS animals_id, animals.weight AS animals_weight, animals.zoo_id AS animals_zoo_id \n",
      "FROM animals JOIN (SELECT animals.id AS id, row_number() OVER (PARTITION BY animals.zoo_id ORDER BY animals.weight DESC) AS row_number \n",
      "FROM animals) AS anon_1 ON animals.id = anon_1.id \n",
      "WHERE anon_1.row_number = ?\n",
      "2021-04-30 22:23:23,261 INFO sqlalchemy.engine.base.Engine (2,)\n"
     ]
    },
    {
     "data": {
      "text/plain": [
       "[Animal(id=1415, weight=695, zoo_id=9),\n",
       " Animal(id=9821, weight=750, zoo_id=11),\n",
       " Animal(id=9992, weight=1040, zoo_id=12)]"
      ]
     },
     "execution_count": 23,
     "metadata": {},
     "output_type": "execute_result"
    }
   ],
   "source": [
    "db.query(Animal).join(sq, Animal.id==sq.c.id).filter(sq.c.row_number==2).all()"
   ]
  },
  {
   "cell_type": "markdown",
   "id": "ea2cb21a-7483-44a6-b1f8-7554cce0621e",
   "metadata": {},
   "source": [
    "#### As a CTE"
   ]
  },
  {
   "cell_type": "code",
   "execution_count": 24,
   "id": "01badd0f-6810-477e-9147-a27b9f7ec4c9",
   "metadata": {},
   "outputs": [
    {
     "data": {
      "text/plain": [
       "<sqlalchemy.sql.selectable.CTE at 0x7f8a0143ca90; add_row_number>"
      ]
     },
     "execution_count": 24,
     "metadata": {},
     "output_type": "execute_result"
    }
   ],
   "source": [
    "cte = db.query(Animal.id, sa.func.row_number().over(order_by=Animal.weight.desc(), partition_by=Animal.zoo_id).label(\"row_number\")).cte(\"add_row_number\")\n",
    "cte"
   ]
  },
  {
   "cell_type": "code",
   "execution_count": 25,
   "id": "c3297c56-3aa9-4c88-9b87-de60ff22fc11",
   "metadata": {},
   "outputs": [
    {
     "name": "stdout",
     "output_type": "stream",
     "text": [
      "2021-04-30 22:23:23,560 INFO sqlalchemy.engine.base.Engine WITH add_row_number AS \n",
      "(SELECT animals.id AS id, row_number() OVER (PARTITION BY animals.zoo_id ORDER BY animals.weight DESC) AS row_number \n",
      "FROM animals)\n",
      " SELECT add_row_number.id AS add_row_number_id, add_row_number.row_number AS add_row_number_row_number \n",
      "FROM add_row_number\n",
      "2021-04-30 22:23:23,561 INFO sqlalchemy.engine.base.Engine ()\n"
     ]
    },
    {
     "data": {
      "text/plain": [
       "[(1117, 1),\n",
       " (1415, 2),\n",
       " (1410, 3),\n",
       " (12993, 1),\n",
       " (9821, 2),\n",
       " (96673, 3),\n",
       " (99929, 1),\n",
       " (9992, 2),\n",
       " (1411, 3)]"
      ]
     },
     "execution_count": 25,
     "metadata": {},
     "output_type": "execute_result"
    }
   ],
   "source": [
    "db.query(cte).all()"
   ]
  },
  {
   "cell_type": "code",
   "execution_count": 26,
   "id": "3665e2e4-8773-4ecc-9cc6-9be82cb67e85",
   "metadata": {},
   "outputs": [
    {
     "name": "stdout",
     "output_type": "stream",
     "text": [
      "2021-04-30 22:23:23,785 INFO sqlalchemy.engine.base.Engine WITH add_row_number AS \n",
      "(SELECT animals.id AS id, row_number() OVER (PARTITION BY animals.zoo_id ORDER BY animals.weight DESC) AS row_number \n",
      "FROM animals)\n",
      " SELECT animals.id AS animals_id, animals.weight AS animals_weight, animals.zoo_id AS animals_zoo_id \n",
      "FROM animals JOIN add_row_number ON animals.id = add_row_number.id \n",
      "WHERE add_row_number.row_number = ?\n",
      "2021-04-30 22:23:23,786 INFO sqlalchemy.engine.base.Engine (2,)\n"
     ]
    },
    {
     "data": {
      "text/plain": [
       "[Animal(id=1415, weight=695, zoo_id=9),\n",
       " Animal(id=9821, weight=750, zoo_id=11),\n",
       " Animal(id=9992, weight=1040, zoo_id=12)]"
      ]
     },
     "execution_count": 26,
     "metadata": {},
     "output_type": "execute_result"
    }
   ],
   "source": [
    "db.query(Animal).join(cte, Animal.id==cte.c.id).filter(cte.c.row_number==2).all()"
   ]
  },
  {
   "cell_type": "code",
   "execution_count": null,
   "id": "39341a11-5c00-45d3-949f-9d97b41e8f97",
   "metadata": {},
   "outputs": [],
   "source": []
  }
 ],
 "metadata": {
  "kernelspec": {
   "display_name": "Python 3",
   "language": "python",
   "name": "python3"
  },
  "language_info": {
   "codemirror_mode": {
    "name": "ipython",
    "version": 3
   },
   "file_extension": ".py",
   "mimetype": "text/x-python",
   "name": "python",
   "nbconvert_exporter": "python",
   "pygments_lexer": "ipython3",
   "version": "3.8.5"
  }
 },
 "nbformat": 4,
 "nbformat_minor": 5
}
